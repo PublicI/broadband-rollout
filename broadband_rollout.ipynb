{
 "cells": [
  {
   "cell_type": "code",
   "execution_count": 1,
   "metadata": {
    "collapsed": true
   },
   "outputs": [],
   "source": [
    "import numpy as np\n",
    "import pandas as pd"
   ]
  },
  {
   "cell_type": "markdown",
   "metadata": {},
   "source": [
    "Query the [FCC Form 477](https://opendata.fcc.gov/Wireline/Fixed-Broadband-Deployment-Data-December-2016-Stat/b5f4-szwq) API to return all available consumer services offering download speeds of 25 Mbps and upload speeds of 3 Mpbs as of December 31, 2016 with the exception of satellite, terrestrial fixed wireless and electric power line technologies."
   ]
  },
  {
   "cell_type": "code",
   "execution_count": 3,
   "metadata": {},
   "outputs": [
    {
     "data": {
      "text/html": [
       "<div>\n",
       "<style>\n",
       "    .dataframe thead tr:only-child th {\n",
       "        text-align: right;\n",
       "    }\n",
       "\n",
       "    .dataframe thead th {\n",
       "        text-align: left;\n",
       "    }\n",
       "\n",
       "    .dataframe tbody tr th {\n",
       "        vertical-align: top;\n",
       "    }\n",
       "</style>\n",
       "<table border=\"1\" class=\"dataframe\">\n",
       "  <thead>\n",
       "    <tr style=\"text-align: right;\">\n",
       "      <th></th>\n",
       "      <th>blockcode</th>\n",
       "      <th>maxaddown</th>\n",
       "      <th>maxadup</th>\n",
       "      <th>provider_id</th>\n",
       "    </tr>\n",
       "  </thead>\n",
       "  <tbody>\n",
       "    <tr>\n",
       "      <th>0</th>\n",
       "      <td>391130505041009</td>\n",
       "      <td>50</td>\n",
       "      <td>5</td>\n",
       "      <td>23783</td>\n",
       "    </tr>\n",
       "    <tr>\n",
       "      <th>1</th>\n",
       "      <td>180050106004004</td>\n",
       "      <td>75</td>\n",
       "      <td>8</td>\n",
       "      <td>25267</td>\n",
       "    </tr>\n",
       "    <tr>\n",
       "      <th>2</th>\n",
       "      <td>390950029002010</td>\n",
       "      <td>110</td>\n",
       "      <td>10</td>\n",
       "      <td>22878</td>\n",
       "    </tr>\n",
       "    <tr>\n",
       "      <th>3</th>\n",
       "      <td>250138001013000</td>\n",
       "      <td>150</td>\n",
       "      <td>10</td>\n",
       "      <td>25055</td>\n",
       "    </tr>\n",
       "    <tr>\n",
       "      <th>4</th>\n",
       "      <td>360650230001038</td>\n",
       "      <td>50</td>\n",
       "      <td>5</td>\n",
       "      <td>23783</td>\n",
       "    </tr>\n",
       "  </tbody>\n",
       "</table>\n",
       "</div>"
      ],
      "text/plain": [
       "         blockcode  maxaddown  maxadup  provider_id\n",
       "0  391130505041009         50        5        23783\n",
       "1  180050106004004         75        8        25267\n",
       "2  390950029002010        110       10        22878\n",
       "3  250138001013000        150       10        25055\n",
       "4  360650230001038         50        5        23783"
      ]
     },
     "execution_count": 3,
     "metadata": {},
     "output_type": "execute_result"
    }
   ],
   "source": [
    "query = \"https://opendata.fcc.gov/resource/gx6m-8dv6.json?$select=blockcode,provider_id,maxaddown,maxadup&$where=consumer=1%20and%20maxaddown>=25%20and%20maxadup>=3%20and%20(techcode=10%20or%20techcode=11%20or%20techcode=12%20or%20techcode=20%20or%20techcode=30%20or%20techcode=40%20or%20techcode=41%20or%20techcode=42%20or%20techcode=43%20or%20techcode=50)&$group=blockcode,provider_id,maxaddown,maxadup&$limit=68415540&$$app_token=AKKaWknmJCinxIDB3ry7CNzX3\"\n",
    "broadband_16 = pd.read_json(query, dtype={\"blockcode\": object}) # Convert blockcode column to object (string) data type\n",
    "broadband_16.head()"
   ]
  },
  {
   "cell_type": "markdown",
   "metadata": {},
   "source": [
    "Import the [FCC Form 477](https://www.fcc.gov/form-477-broadband-deployment-data-december-2014-version-2) API to return all available consumer services offering download speeds of 25 Mbps and upload speeds of 3 Mpbs as of December 31, 2014 with the exception of satellite, terrestrial fixed wireless and electric power line technologies."
   ]
  },
  {
   "cell_type": "code",
   "execution_count": null,
   "metadata": {
    "collapsed": true
   },
   "outputs": [],
   "source": [
    "broadband_14 = pd.read_csv(\"data/fbd_us_without_satellite_dec2014_V2.csv\",\n",
    "                          usecols=(1, 9, 10, 11, 12, 13), dtype={\"Provider_Id\": object, \"BlockCode\": object})\n",
    "broadband_14.rename(columns={\"county\": \"county_fips\", \"2010 Tract\": \"tract_fips\",\n",
    "                          \"2010 Block\": \"block_fips\", \"placefp\": \"place_fips\",\n",
    "                          \"cntyname\": \"county\", \"Place Name\": \"place\",\n",
    "                          \"block to placefp alloc factor\": \"allocation_factor\"}, inplace=True)\n",
    "broadband_14.info()"
   ]
  },
  {
   "cell_type": "code",
   "execution_count": null,
   "metadata": {
    "collapsed": true
   },
   "outputs": [],
   "source": []
  }
 ],
 "metadata": {
  "kernelspec": {
   "display_name": "Python 3",
   "language": "python",
   "name": "python3"
  },
  "language_info": {
   "codemirror_mode": {
    "name": "ipython",
    "version": 3
   },
   "file_extension": ".py",
   "mimetype": "text/x-python",
   "name": "python",
   "nbconvert_exporter": "python",
   "pygments_lexer": "ipython3",
   "version": "3.6.3"
  }
 },
 "nbformat": 4,
 "nbformat_minor": 2
}
