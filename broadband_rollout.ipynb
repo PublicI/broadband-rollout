{
 "cells": [
  {
   "cell_type": "code",
   "execution_count": 4,
   "metadata": {
    "collapsed": true
   },
   "outputs": [],
   "source": [
    "import json\n",
    "import numpy as np\n",
    "import pandas as pd\n",
    "import psycopg2"
   ]
  },
  {
   "cell_type": "markdown",
   "metadata": {
    "collapsed": true
   },
   "source": [
    "## Import and format the data"
   ]
  },
  {
   "cell_type": "markdown",
   "metadata": {},
   "source": [
    "First, connect to the database."
   ]
  },
  {
   "cell_type": "code",
   "execution_count": 5,
   "metadata": {},
   "outputs": [],
   "source": [
    "with open(\"config.json\") as f:\n",
    "    conf = json.load(f)"
   ]
  },
  {
   "cell_type": "code",
   "execution_count": 6,
   "metadata": {
    "collapsed": true
   },
   "outputs": [],
   "source": [
    "conn_str = \"host={} dbname={} user={} password={}\".format(conf[\"host\"], conf[\"database\"], conf[\"user\"], conf[\"password\"])"
   ]
  },
  {
   "cell_type": "code",
   "execution_count": 7,
   "metadata": {
    "collapsed": true
   },
   "outputs": [],
   "source": [
    "conn = psycopg2.connect(conn_str)"
   ]
  },
  {
   "cell_type": "markdown",
   "metadata": {},
   "source": [
    "Query the database to return the shit we want."
   ]
  },
  {
   "cell_type": "code",
   "execution_count": null,
   "metadata": {
    "collapsed": true
   },
   "outputs": [],
   "source": [
    "broadband_16 = pd.read_sql(\"\"\"SELECT block_pops.state,\n",
    "       block_pops.county,\n",
    "       block_pops.population,\n",
    "       block_pops.sq_miles,\n",
    "       block_pops.pop_per_sq_mile,\n",
    "       block_pops.full_fips,\n",
    "       deployment_2016.blockcode\n",
    "FROM block_pops\n",
    "LEFT JOIN deployment_2016\n",
    "WHERE deployment_2016.consumer = '1'\n",
    "  AND deployment_2016.maxaddown >= 25\n",
    "  AND deployment_2016.maxadup >= 3\n",
    "  AND (deployment_2016.techcode = '10'\n",
    "       OR deployment_2016.techcode = '11'\n",
    "       OR deployment_2016.techcode= '12'\n",
    "       OR deployment_2016.techcode = '20'\n",
    "       OR deployment_2016.techcode = '30'\n",
    "       OR deployment_2016.techcode = '40'\n",
    "       OR deployment_2016.techcode = '41'\n",
    "       OR deployment_2016.techcode = '42'\n",
    "       OR deployment_2016.techcode = '43'\n",
    "       OR deployment_2016.techcode = '50')\n",
    "GROUP BY block_pops.state,\n",
    "       block_pops.county,\n",
    "       block_pops.population,\n",
    "       block_pops.sq_miles,\n",
    "       block_pops.pop_per_sq_mile,\n",
    "       block_pops.full_fips,\n",
    "       deployment_2016.blockcode;\"\"\",\n",
    "                           con=conn)"
   ]
  }
 ],
 "metadata": {
  "kernelspec": {
   "display_name": "Python 3",
   "language": "python",
   "name": "python3"
  },
  "language_info": {
   "codemirror_mode": {
    "name": "ipython",
    "version": 3
   },
   "file_extension": ".py",
   "mimetype": "text/x-python",
   "name": "python",
   "nbconvert_exporter": "python",
   "pygments_lexer": "ipython3",
   "version": "3.6.3"
  }
 },
 "nbformat": 4,
 "nbformat_minor": 2
}
